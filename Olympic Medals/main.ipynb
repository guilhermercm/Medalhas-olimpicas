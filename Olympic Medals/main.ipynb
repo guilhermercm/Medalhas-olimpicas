{
 "cells": [
  {
   "cell_type": "code",
   "execution_count": null,
   "metadata": {},
   "outputs": [],
   "source": [
    "import pandas as pd"
   ]
  },
  {
   "cell_type": "code",
   "execution_count": null,
   "metadata": {},
   "outputs": [],
   "source": [
    "initial_df = pd.read_csv(\"Summer_olympic_Medals.csv\")\n",
    "initial_df"
   ]
  },
  {
   "cell_type": "code",
   "execution_count": null,
   "metadata": {},
   "outputs": [],
   "source": [
    "hostMedals_df = initial_df[initial_df['Host_country'] == initial_df['Country_Name']]\n",
    "    # > Dataframe com os resultados dos países sede\n",
    "hostMedals_df"
   ]
  },
  {
   "cell_type": "code",
   "execution_count": null,
   "metadata": {},
   "outputs": [],
   "source": [
    "medalsPerYearAll_df = initial_df.groupby(['Country_Name', 'Year',]).sum(numeric_only=True).reset_index()\n",
    "# > Dataframe com o resultado de todos os países em cada edição das olimpíadas\n",
    "medalsPerYearAll_df"
   ]
  },
  {
   "cell_type": "code",
   "execution_count": null,
   "metadata": {},
   "outputs": [],
   "source": [
    "medalsPerYear_df = medalsPerYearAll_df[medalsPerYearAll_df['Country_Name'].isin(hostMedals_df['Host_country'])]\n",
    "    # > Dataframe com o resultado apenas dos países que sediaram olimpíadas\n",
    "medalsPerYear_df['Total'] = medalsPerYear_df['Gold'] + medalsPerYear_df['Silver'] + medalsPerYear_df['Bronze']\n",
    "    # > Adicionando a coluna com o total de medalhas de cada edição das olimpíadas\n",
    "medalsPerYear_df"
   ]
  },
  {
   "cell_type": "code",
   "execution_count": null,
   "metadata": {},
   "outputs": [],
   "source": [
    "medalsPerYear_df = medalsPerYear_df.merge(initial_df.filter(['Year', 'Host_country']), on='Year', how='left').drop_duplicates().reset_index(drop=True)\n",
    "    # > Adicionado ao dataframe a informação da sede do evento\n",
    "medalsPerYear_df"
   ]
  },
  {
   "cell_type": "code",
   "execution_count": null,
   "metadata": {},
   "outputs": [],
   "source": [
    "for country in pd.unique(medalsPerYear_df['Country_Name']):\n",
    "    # > Selecionar valores únicos da coluna\n",
    "    temp_df = medalsPerYear_df[medalsPerYear_df['Country_Name'] == country]\n",
    "        # > Dataframe temporário para cada país único\n",
    "    tempData_df = temp_df.groupby(['Country_Name']).agg({'Gold':['mean','max'], 'Silver':['mean','max'], 'Bronze':['mean','max'], 'Total':['mean','max']})\n",
    "        # > Dataframe com os dados de média e valor máximo de cada medalha\n",
    "    tempHostIn_df = temp_df[temp_df['Host_country'] == country].set_index('Country_Name').drop(columns=['Year', 'Host_country'])\n",
    "        # > Dataframe com os dados de quando os países foram sede\n",
    "    display(tempData_df)\n",
    "    display(tempHostIn_df)"
   ]
  },
  {
   "cell_type": "code",
   "execution_count": null,
   "metadata": {},
   "outputs": [],
   "source": [
    "host_years = {}\n",
    "for nation in hostMedals_df['Host_country'].unique():\n",
    "    years = hostMedals_df[hostMedals_df['Host_country'] == nation]['Year'].to_list()\n",
    "    host_years[nation] = years\n",
    "\n",
    "print(host_years)"
   ]
  },
  {
   "cell_type": "markdown",
   "metadata": {},
   "source": [
    "- GRAPHIC"
   ]
  },
  {
   "cell_type": "code",
   "execution_count": null,
   "metadata": {},
   "outputs": [],
   "source": [
    "for country in pd.unique(medalsPerYear_df['Country_Name']):\n",
    "    medalsPerYear_df[medalsPerYear_df['Country_Name'] == country].plot(kind='bar',x='Year', title=f'{country} - Host in {host_years[country]}', figsize=[15, 5])\n",
    "        # > Gera o gráfico com o desempenho do país nas olimpíadas que participou, informando qual foi o ano em que foi sede do evento"
   ]
  }
 ],
 "metadata": {
  "kernelspec": {
   "display_name": "Olympic_Medals-YD9XI5FB",
   "language": "python",
   "name": "python3"
  },
  "language_info": {
   "codemirror_mode": {
    "name": "ipython",
    "version": 3
   },
   "file_extension": ".py",
   "mimetype": "text/x-python",
   "name": "python",
   "nbconvert_exporter": "python",
   "pygments_lexer": "ipython3",
   "version": "3.12.0"
  }
 },
 "nbformat": 4,
 "nbformat_minor": 2
}
